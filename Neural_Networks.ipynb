{
  "nbformat": 4,
  "nbformat_minor": 0,
  "metadata": {
    "colab": {
      "provenance": [],
      "gpuType": "T4",
      "include_colab_link": true
    },
    "kernelspec": {
      "name": "python3",
      "display_name": "Python 3"
    },
    "language_info": {
      "name": "python"
    },
    "accelerator": "GPU"
  },
  "cells": [
    {
      "cell_type": "markdown",
      "metadata": {
        "id": "view-in-github",
        "colab_type": "text"
      },
      "source": [
        "<a href=\"https://colab.research.google.com/github/LarryLiebovitch/AI_AC4a_Fall2023/blob/main/Neural_Networks.ipynb\" target=\"_parent\"><img src=\"https://colab.research.google.com/assets/colab-badge.svg\" alt=\"Open In Colab\"/></a>"
      ]
    },
    {
      "cell_type": "code",
      "execution_count": null,
      "metadata": {
        "colab": {
          "base_uri": "https://localhost:8080/"
        },
        "id": "BiAkYwd5CcAD",
        "outputId": "31832417-59f0-47c9-e1de-aa89de4d185d"
      },
      "outputs": [
        {
          "output_type": "stream",
          "name": "stdout",
          "text": [
            "Requirement already satisfied: tensorflow in /usr/local/lib/python3.11/dist-packages (2.17.1)\n",
            "Requirement already satisfied: numpy in /usr/local/lib/python3.11/dist-packages (1.26.4)\n",
            "Requirement already satisfied: scikit-learn in /usr/local/lib/python3.11/dist-packages (1.6.0)\n",
            "Requirement already satisfied: matplotlib in /usr/local/lib/python3.11/dist-packages (3.10.0)\n",
            "Requirement already satisfied: absl-py>=1.0.0 in /usr/local/lib/python3.11/dist-packages (from tensorflow) (1.4.0)\n",
            "Requirement already satisfied: astunparse>=1.6.0 in /usr/local/lib/python3.11/dist-packages (from tensorflow) (1.6.3)\n",
            "Requirement already satisfied: flatbuffers>=24.3.25 in /usr/local/lib/python3.11/dist-packages (from tensorflow) (24.12.23)\n",
            "Requirement already satisfied: gast!=0.5.0,!=0.5.1,!=0.5.2,>=0.2.1 in /usr/local/lib/python3.11/dist-packages (from tensorflow) (0.6.0)\n",
            "Requirement already satisfied: google-pasta>=0.1.1 in /usr/local/lib/python3.11/dist-packages (from tensorflow) (0.2.0)\n",
            "Requirement already satisfied: h5py>=3.10.0 in /usr/local/lib/python3.11/dist-packages (from tensorflow) (3.12.1)\n",
            "Requirement already satisfied: libclang>=13.0.0 in /usr/local/lib/python3.11/dist-packages (from tensorflow) (18.1.1)\n",
            "Requirement already satisfied: ml-dtypes<0.5.0,>=0.3.1 in /usr/local/lib/python3.11/dist-packages (from tensorflow) (0.4.1)\n",
            "Requirement already satisfied: opt-einsum>=2.3.2 in /usr/local/lib/python3.11/dist-packages (from tensorflow) (3.4.0)\n",
            "Requirement already satisfied: packaging in /usr/local/lib/python3.11/dist-packages (from tensorflow) (24.2)\n",
            "Requirement already satisfied: protobuf!=4.21.0,!=4.21.1,!=4.21.2,!=4.21.3,!=4.21.4,!=4.21.5,<5.0.0dev,>=3.20.3 in /usr/local/lib/python3.11/dist-packages (from tensorflow) (4.25.5)\n",
            "Requirement already satisfied: requests<3,>=2.21.0 in /usr/local/lib/python3.11/dist-packages (from tensorflow) (2.32.3)\n",
            "Requirement already satisfied: setuptools in /usr/local/lib/python3.11/dist-packages (from tensorflow) (75.1.0)\n",
            "Requirement already satisfied: six>=1.12.0 in /usr/local/lib/python3.11/dist-packages (from tensorflow) (1.17.0)\n",
            "Requirement already satisfied: termcolor>=1.1.0 in /usr/local/lib/python3.11/dist-packages (from tensorflow) (2.5.0)\n",
            "Requirement already satisfied: typing-extensions>=3.6.6 in /usr/local/lib/python3.11/dist-packages (from tensorflow) (4.12.2)\n",
            "Requirement already satisfied: wrapt>=1.11.0 in /usr/local/lib/python3.11/dist-packages (from tensorflow) (1.17.0)\n",
            "Requirement already satisfied: grpcio<2.0,>=1.24.3 in /usr/local/lib/python3.11/dist-packages (from tensorflow) (1.69.0)\n",
            "Requirement already satisfied: tensorboard<2.18,>=2.17 in /usr/local/lib/python3.11/dist-packages (from tensorflow) (2.17.1)\n",
            "Requirement already satisfied: keras>=3.2.0 in /usr/local/lib/python3.11/dist-packages (from tensorflow) (3.5.0)\n",
            "Requirement already satisfied: tensorflow-io-gcs-filesystem>=0.23.1 in /usr/local/lib/python3.11/dist-packages (from tensorflow) (0.37.1)\n",
            "Requirement already satisfied: scipy>=1.6.0 in /usr/local/lib/python3.11/dist-packages (from scikit-learn) (1.13.1)\n",
            "Requirement already satisfied: joblib>=1.2.0 in /usr/local/lib/python3.11/dist-packages (from scikit-learn) (1.4.2)\n",
            "Requirement already satisfied: threadpoolctl>=3.1.0 in /usr/local/lib/python3.11/dist-packages (from scikit-learn) (3.5.0)\n",
            "Requirement already satisfied: contourpy>=1.0.1 in /usr/local/lib/python3.11/dist-packages (from matplotlib) (1.3.1)\n",
            "Requirement already satisfied: cycler>=0.10 in /usr/local/lib/python3.11/dist-packages (from matplotlib) (0.12.1)\n",
            "Requirement already satisfied: fonttools>=4.22.0 in /usr/local/lib/python3.11/dist-packages (from matplotlib) (4.55.3)\n",
            "Requirement already satisfied: kiwisolver>=1.3.1 in /usr/local/lib/python3.11/dist-packages (from matplotlib) (1.4.8)\n",
            "Requirement already satisfied: pillow>=8 in /usr/local/lib/python3.11/dist-packages (from matplotlib) (11.1.0)\n",
            "Requirement already satisfied: pyparsing>=2.3.1 in /usr/local/lib/python3.11/dist-packages (from matplotlib) (3.2.1)\n",
            "Requirement already satisfied: python-dateutil>=2.7 in /usr/local/lib/python3.11/dist-packages (from matplotlib) (2.8.2)\n",
            "Requirement already satisfied: wheel<1.0,>=0.23.0 in /usr/local/lib/python3.11/dist-packages (from astunparse>=1.6.0->tensorflow) (0.45.1)\n",
            "Requirement already satisfied: rich in /usr/local/lib/python3.11/dist-packages (from keras>=3.2.0->tensorflow) (13.9.4)\n",
            "Requirement already satisfied: namex in /usr/local/lib/python3.11/dist-packages (from keras>=3.2.0->tensorflow) (0.0.8)\n",
            "Requirement already satisfied: optree in /usr/local/lib/python3.11/dist-packages (from keras>=3.2.0->tensorflow) (0.13.1)\n",
            "Requirement already satisfied: charset-normalizer<4,>=2 in /usr/local/lib/python3.11/dist-packages (from requests<3,>=2.21.0->tensorflow) (3.4.1)\n",
            "Requirement already satisfied: idna<4,>=2.5 in /usr/local/lib/python3.11/dist-packages (from requests<3,>=2.21.0->tensorflow) (3.10)\n",
            "Requirement already satisfied: urllib3<3,>=1.21.1 in /usr/local/lib/python3.11/dist-packages (from requests<3,>=2.21.0->tensorflow) (2.3.0)\n",
            "Requirement already satisfied: certifi>=2017.4.17 in /usr/local/lib/python3.11/dist-packages (from requests<3,>=2.21.0->tensorflow) (2024.12.14)\n",
            "Requirement already satisfied: markdown>=2.6.8 in /usr/local/lib/python3.11/dist-packages (from tensorboard<2.18,>=2.17->tensorflow) (3.7)\n",
            "Requirement already satisfied: tensorboard-data-server<0.8.0,>=0.7.0 in /usr/local/lib/python3.11/dist-packages (from tensorboard<2.18,>=2.17->tensorflow) (0.7.2)\n",
            "Requirement already satisfied: werkzeug>=1.0.1 in /usr/local/lib/python3.11/dist-packages (from tensorboard<2.18,>=2.17->tensorflow) (3.1.3)\n",
            "Requirement already satisfied: MarkupSafe>=2.1.1 in /usr/local/lib/python3.11/dist-packages (from werkzeug>=1.0.1->tensorboard<2.18,>=2.17->tensorflow) (3.0.2)\n",
            "Requirement already satisfied: markdown-it-py>=2.2.0 in /usr/local/lib/python3.11/dist-packages (from rich->keras>=3.2.0->tensorflow) (3.0.0)\n",
            "Requirement already satisfied: pygments<3.0.0,>=2.13.0 in /usr/local/lib/python3.11/dist-packages (from rich->keras>=3.2.0->tensorflow) (2.18.0)\n",
            "Requirement already satisfied: mdurl~=0.1 in /usr/local/lib/python3.11/dist-packages (from markdown-it-py>=2.2.0->rich->keras>=3.2.0->tensorflow) (0.1.2)\n"
          ]
        }
      ],
      "source": [
        "!pip install tensorflow numpy scikit-learn matplotlib"
      ]
    },
    {
      "cell_type": "code",
      "source": [
        "import os\n",
        "import numpy as np\n",
        "import tensorflow as tf\n",
        "from tensorflow.keras.models import Sequential, load_model\n",
        "from tensorflow.keras.layers import Dense, Conv1D, Flatten, Dropout, MaxPooling1D\n",
        "from tensorflow.keras.optimizers import Adam\n",
        "from sklearn.model_selection import train_test_split\n",
        "from sklearn.metrics import accuracy_score\n",
        "import matplotlib.pyplot as plt\n",
        "from google.colab import drive"
      ],
      "metadata": {
        "id": "81Za__ZGFyrf"
      },
      "execution_count": null,
      "outputs": []
    },
    {
      "cell_type": "code",
      "source": [
        "drive.mount('/content/drive')\n",
        "folder_path = '/content/drive/My Drive/PeaceProject-NN'\n",
        "print(os.listdir(folder_path))\n",
        "\n",
        "model_path = folder_path + '/models/'\n",
        "if not os.path.exists(model_path):\n",
        "  os.makedirs(model_path)"
      ],
      "metadata": {
        "colab": {
          "base_uri": "https://localhost:8080/"
        },
        "id": "sNmfWHxJCpKU",
        "outputId": "787185d3-31f9-4aa6-d469-0d351e9055e8"
      },
      "execution_count": null,
      "outputs": [
        {
          "output_type": "stream",
          "name": "stdout",
          "text": [
            "Mounted at /content/drive\n",
            "['NOWlabels.npy', 'NOWembeddings.npy', 'youtube_embeddings.npy', 'youtube_metadatas.npy', 'sampled_metadatas.npy', 'sampled_embeddings.npy', 'models', 'NOW_metadatas.npy', 'NOW_embeddings.npy', 'largesampled_NOW_embeddings.npy', 'largesampled_NOW_metadatas.npy']\n"
          ]
        }
      ]
    },
    {
      "cell_type": "markdown",
      "source": [
        "## Training"
      ],
      "metadata": {
        "id": "GpzNhZ4zCtRT"
      }
    },
    {
      "cell_type": "code",
      "source": [
        "# Load embeddings & labels\n",
        "X = np.load(folder_path + '/largesampled_NOW_embeddings.npy', allow_pickle=True)\n",
        "metadata = np.load(folder_path + '/largesampled_NOW_metadatas.npy', allow_pickle=True)\n",
        "Y = np.array([entry['peaceful'] for entry in metadata])\n",
        "\n",
        "print(f\"Embeddings shape: {X.shape}\")\n",
        "print(f\"Labels shape: {Y.shape}\")\n",
        "\n",
        "n_samples = X.shape[0]\n",
        "input_dim = X.shape[1]"
      ],
      "metadata": {
        "colab": {
          "base_uri": "https://localhost:8080/"
        },
        "id": "cupJRkSdCrWo",
        "outputId": "9765ef04-30cb-4180-dfd0-61810ffac097"
      },
      "execution_count": null,
      "outputs": [
        {
          "output_type": "stream",
          "name": "stdout",
          "text": [
            "Embeddings shape: (104302, 1536)\n",
            "Labels shape: (104302,)\n"
          ]
        }
      ]
    },
    {
      "cell_type": "code",
      "source": [
        "# 80% training data, 20% testing\n",
        "X_train_ff, X_test_ff, Y_train, Y_test = train_test_split(X, Y, test_size=0.2, random_state=42)\n",
        "\n",
        "X_train_cnn = X_train_ff[..., np.newaxis] # Shape: (num_training_samples, 1536, 1)\n",
        "X_test_cnn = X_test_ff[..., np.newaxis] # Shape: (num_testing_samples, 1536, 1)\n",
        "\n",
        "# Verify shapes\n",
        "print(f\"CNN X_train shape: {X_train_cnn.shape}\")\n",
        "print(f\"CNN X_test shape: {X_test_cnn.shape}\")\n",
        "print(f\"FF X_train shape: {X_train_ff.shape}\")\n",
        "print(f\"FF X_test shape: {X_test_ff.shape}\")\n",
        "print(f\"Y_train shape: {Y_train.shape}\")\n",
        "print(f\"Y_test shape: {Y_test.shape}\")"
      ],
      "metadata": {
        "colab": {
          "base_uri": "https://localhost:8080/"
        },
        "id": "hHLetEPkCyeG",
        "outputId": "652d4d1a-13da-498f-8820-1996a6c95505"
      },
      "execution_count": null,
      "outputs": [
        {
          "output_type": "stream",
          "name": "stdout",
          "text": [
            "CNN X_train shape: (83441, 1536, 1)\n",
            "CNN X_test shape: (20861, 1536, 1)\n",
            "FF X_train shape: (83441, 1536)\n",
            "FF X_test shape: (20861, 1536)\n",
            "Y_train shape: (83441,)\n",
            "Y_test shape: (20861,)\n"
          ]
        }
      ]
    },
    {
      "cell_type": "markdown",
      "source": [
        "Parameters:\n",
        "\n",
        "**CNN Network**\n",
        "1. Convolutional Input Layer:\n",
        "> *   Input shape: (1536, 1)\n",
        "> *   Filters: 64\n",
        "> *   Kernel Size: 3\n",
        "> *   Output Shape: (input_dim - kernel_size + 1, filters) = (1536 - 3 + 1, 64) = (1534, 64)\n",
        "> * Parameters:\n",
        ">> * Weights: filters x kernel_size x input_channels = 64 x 3 x 1 = 192\n",
        ">> * Biases: filters = 64\n",
        ">> * Total Parameters: 192 + 64 = 256\n",
        "2. Convolution Layer 2:\n",
        "> *   Filters: 32\n",
        "> *   Kernel Size: 3\n",
        "> *   Output Shape: (input_dim - kernel_size + 1, filters) = (1534 - 3 + 1, 32) = (1532, 32)\n",
        "> * Parameters:\n",
        ">> * Weights: filters x kernel_size x input_channels = 32 x 3 x 64 = 6144\n",
        ">> * Biases: filters = 32\n",
        ">> * Total Parameters: 6144 + 32 = 6176\n",
        "3. Flatten Layer:\n",
        "> *   Converts output of Layer 2 into a 1D vector\n",
        "> * Output Shape: 1532 x 32 = (49024)\n",
        "4. Dense Layer 1:\n",
        "> *   Units: 128\n",
        "> *   Activation: ReLU\n",
        "> * Parameters:\n",
        ">> * Weights: input_units x output_units = 1532 x 128 = 49024  128 = 6275072\n",
        ">> * Biases: output_units = 128\n",
        ">> * Total Parameters: 6275072 + 128 = 6275200\n",
        "5. Dense Layer 2:\n",
        "> *   Units: 64\n",
        "> *   Activation: ReLU\n",
        "> * Parameters:\n",
        ">> * Weights: input_units x output_units = 128 x 64 = 8192\n",
        ">> * Biases: output_units = 64\n",
        ">> * Total Parameters: 8192 + 64 = 8256\n",
        "6. Output Layer:\n",
        "> *   Units: 1\n",
        "> *   Activation: Sigmoid\n",
        "> * Parameters:\n",
        ">> * Weights: input_units x output_units = 64 x 1 = 64\n",
        ">> * Biases: output_units = 1\n",
        ">> * Total Parameters: 64 + 1 = 65\n",
        "\n",
        "**Fully-Connected Feed Forward Network**\n",
        "1. Input Layer:\n",
        "> *   Input shape: (1536)\n",
        "2. Dense Layer 1:\n",
        "> *   Units: 512\n",
        "> *   Activation: ReLU\n",
        "> * Dropout Rate: 30%\n",
        "> * Parameters:\n",
        ">> * Weights: input_units x output_units = 1536 x 512 = 786432\n",
        ">> * Biases: output_units = 512\n",
        ">> * Total Parameters: 786432 + 512 = 786944\n",
        "3. Dense Layer 2:\n",
        "> *   Units: 256\n",
        "> *   Activation: ReLU\n",
        "> * Dropout Rate: 30%\n",
        "> * Parameters:\n",
        ">> * Weights: input_units x output_units = x 512 x 256 = 131072\n",
        ">> * Biases: output_units = 256\n",
        ">> * Total Parameters: 131072 + 256 = 131328\n",
        "4. Dense Layer 3:\n",
        "> *   Units: 128\n",
        "> *   Activation: ReLU\n",
        "> * Dropout Rate: 30%\n",
        "> * Parameters:\n",
        ">> * Weights: input_units x output_units = 256 x 128 = 32768\n",
        ">> * Biases: output_units = 128\n",
        ">> * Total Parameters: 32768 + 128 = 32896\n",
        "5. Dense Layer 4:\n",
        "> *   Units: 64\n",
        "> *   Activation: ReLU\n",
        "> * Dropout Rate: 30%\n",
        "> * Parameters:\n",
        ">> * Weights: input_units x output_units = 128 x 64 = 8192\n",
        ">> * Biases: output_units = 64\n",
        ">> * Total Parameters: 8192 + 64 = 8256\n",
        "6. Dense Output Layer:\n",
        "> *   Units: 1\n",
        "> *   Activation: Sigmoid\n",
        "> * Parameters:\n",
        ">> * Weights: input_units x output_units = 64 x 1 = 64\n",
        ">> * Biases: output_units = 1\n",
        ">> * Total Parameters: 64 + 1 = 65\n",
        "\n",
        "**Revised CNN Network**\n",
        "1. Convolutional Input Layer:\n",
        "> *   Input shape: (1536, 1)\n",
        "> *   Filters: 64\n",
        "> *   Kernel Size: 3\n",
        "> *   Output Shape: (input_dim - kernel_size + 1, filters) = (1536 - 3 + 1, 64) = (1534, 64)\n",
        "> * Parameters:\n",
        ">> * Weights: filters x kernel_size x input_channels = 64 x 3 x 1 = 192\n",
        ">> * Biases: filters = 64\n",
        ">> * Total Parameters: 192 + 64 = 256\n",
        "2. Max Pooling Layer:\n",
        "> *   Pool Size: 2\n",
        "> *   Output Shape: (input_dim/pool_size, filters) = (1534/2, 64) = (767, 64)\n",
        "3. Flatten Layer:\n",
        "> *   Converts output of Layer 2 into a 1D vector\n",
        "> *   Output Shape: 767 x 64 = (49088)\n",
        "4. Dense Layer 1:\n",
        "> *   Units: 128\n",
        "> *   Activation: ReLU\n",
        "> * Parameters:\n",
        ">> * Weights: input_units x output_units = 49088 x 128 = 6283264\n",
        ">> * Biases: output_units = 128\n",
        ">> * Total Parameters: 6283264 + 128 = 6283392\n",
        "5. Dense Layer 2:\n",
        "> *   Units: 64\n",
        "> *   Activation: ReLU\n",
        "> * Parameters:\n",
        ">> * Weights: input_units x output_units = 128 x 64 = 8192\n",
        ">> * Biases: output_units = 64\n",
        ">> * Total Parameters: 8192 + 64 = 8256\n",
        "6. Dense Output Layer:\n",
        "> *   Units: 1\n",
        "> *   Activation: Sigmoid\n",
        "> * Parameters:\n",
        ">> * Weights: input_units x output_units = 64 x 1 = 64\n",
        ">> * Biases: output_units = 1\n",
        ">> * Total Parameters: 64 + 1 = 65\n",
        "\n",
        "\n",
        "\n",
        "\n",
        "\n",
        "\n"
      ],
      "metadata": {
        "id": "BzY9YHOUwmyT"
      }
    },
    {
      "cell_type": "code",
      "source": [
        "cnn_model = Sequential([\n",
        "  # Convolutional layer 1\n",
        "  Conv1D(filters=64, kernel_size=3, activation='relu', input_shape=(input_dim, 1)),\n",
        "\n",
        "  # Convolutional layer 2\n",
        "  Conv1D(filters=32, kernel_size=3, activation='relu'),\n",
        "\n",
        "  # Convert 2D to 1D\n",
        "  Flatten(),\n",
        "\n",
        "  # Fully-connected layer 1\n",
        "  Dense(128, activation='relu'),\n",
        "  Dropout(0.3), # Random dropout to prevent overfitting\n",
        "\n",
        "  # Fully-connected layer 2\n",
        "  Dense(64, activation='relu'),\n",
        "\n",
        "  # Output layer\n",
        "  Dense(1, activation='sigmoid') # Sigmoid to output probabilities\n",
        "])"
      ],
      "metadata": {
        "id": "5mAcfN2eMdgx",
        "colab": {
          "base_uri": "https://localhost:8080/"
        },
        "outputId": "e6fe0a22-d327-41e5-abce-bed2f9fc772a"
      },
      "execution_count": null,
      "outputs": [
        {
          "output_type": "stream",
          "name": "stderr",
          "text": [
            "/usr/local/lib/python3.11/dist-packages/keras/src/layers/convolutional/base_conv.py:107: UserWarning: Do not pass an `input_shape`/`input_dim` argument to a layer. When using Sequential models, prefer using an `Input(shape)` object as the first layer in the model instead.\n",
            "  super().__init__(activity_regularizer=activity_regularizer, **kwargs)\n"
          ]
        }
      ]
    },
    {
      "cell_type": "code",
      "source": [
        "ff_model = Sequential([\n",
        "  Dense(512, activation='relu', input_shape=(input_dim,)),\n",
        "  Dropout(0.3),\n",
        "\n",
        "  Dense(256, activation='relu'),\n",
        "  Dropout(0.3),\n",
        "\n",
        "  Dense(128, activation='relu'),\n",
        "  Dropout(0.3),\n",
        "\n",
        "  Dense(64, activation='relu'),\n",
        "  Dropout(0.3),\n",
        "\n",
        "  # Output layer\n",
        "  Dense(1, activation='sigmoid') # Sigmoid to output probabilities\n",
        "])"
      ],
      "metadata": {
        "id": "dIixi0QlMeal",
        "colab": {
          "base_uri": "https://localhost:8080/"
        },
        "outputId": "98c0027c-37d8-4011-f5f8-759c03d07be7"
      },
      "execution_count": null,
      "outputs": [
        {
          "output_type": "stream",
          "name": "stderr",
          "text": [
            "/usr/local/lib/python3.11/dist-packages/keras/src/layers/core/dense.py:87: UserWarning: Do not pass an `input_shape`/`input_dim` argument to a layer. When using Sequential models, prefer using an `Input(shape)` object as the first layer in the model instead.\n",
            "  super().__init__(activity_regularizer=activity_regularizer, **kwargs)\n"
          ]
        }
      ]
    },
    {
      "cell_type": "code",
      "source": [
        "new_cnn_model = Sequential([\n",
        "  # Convolutional layer 1\n",
        "  Conv1D(filters=64, kernel_size=3, activation='relu', input_shape=(input_dim, 1)),\n",
        "\n",
        "  # Max Pooling layer\n",
        "  MaxPooling1D(pool_size=2),\n",
        "\n",
        "  # Convert 2D to 1D\n",
        "  Flatten(),\n",
        "\n",
        "  # Fully-connected layer 1\n",
        "  Dense(128, activation='relu'),\n",
        "\n",
        "  # Fully-connected layer 2\n",
        "  Dense(64, activation='relu'),\n",
        "\n",
        "  # Output layer\n",
        "  Dense(1, activation='sigmoid') # Sigmoid to output probabilities\n",
        "])"
      ],
      "metadata": {
        "id": "1b5x1UdHC6qM"
      },
      "execution_count": null,
      "outputs": []
    },
    {
      "cell_type": "markdown",
      "source": [
        "Backpropagation:\n",
        ">* Optimizer: Adam\n",
        ">* Loss Function: Binary Cross-Entropy"
      ],
      "metadata": {
        "id": "sHu2lWJ-DVrZ"
      }
    },
    {
      "cell_type": "code",
      "source": [
        "# Define loss function & optimizer\n",
        "cnn_model.compile(optimizer=Adam(learning_rate=0.001),\n",
        "              loss='binary_crossentropy',\n",
        "              metrics=['accuracy'])"
      ],
      "metadata": {
        "id": "P5HO5zN_Mnnr"
      },
      "execution_count": null,
      "outputs": []
    },
    {
      "cell_type": "code",
      "source": [
        "ff_model.compile(optimizer=Adam(learning_rate=0.001),\n",
        "              loss='binary_crossentropy',\n",
        "              metrics=['accuracy'])"
      ],
      "metadata": {
        "id": "YSygu48dMoI4"
      },
      "execution_count": null,
      "outputs": []
    },
    {
      "cell_type": "code",
      "source": [
        "new_cnn_model.compile(loss='binary_crossentropy',\n",
        "              optimizer='adam',\n",
        "              metrics=['accuracy'])"
      ],
      "metadata": {
        "id": "Qjw99DNxC-qF"
      },
      "execution_count": null,
      "outputs": []
    },
    {
      "cell_type": "markdown",
      "source": [
        "Training:\n",
        ">* Epochs: 10\n",
        ">* Batch Size: 32"
      ],
      "metadata": {
        "id": "15JmEotsDm5M"
      }
    },
    {
      "cell_type": "code",
      "source": [
        "# Train\n",
        "cnn_history = cnn_model.fit(X_train_cnn, Y_train,\n",
        "                          epochs=10,\n",
        "                          batch_size=32,\n",
        "                          verbose=1)"
      ],
      "metadata": {
        "id": "2GW_skhLMyR8",
        "colab": {
          "base_uri": "https://localhost:8080/"
        },
        "outputId": "fc611a93-8b5b-490d-c829-52c877456e77"
      },
      "execution_count": null,
      "outputs": [
        {
          "output_type": "stream",
          "name": "stdout",
          "text": [
            "Epoch 1/10\n",
            "\u001b[1m2608/2608\u001b[0m \u001b[32m━━━━━━━━━━━━━━━━━━━━\u001b[0m\u001b[37m\u001b[0m \u001b[1m27s\u001b[0m 8ms/step - accuracy: 0.9390 - loss: 0.1582\n",
            "Epoch 2/10\n",
            "\u001b[1m2608/2608\u001b[0m \u001b[32m━━━━━━━━━━━━━━━━━━━━\u001b[0m\u001b[37m\u001b[0m \u001b[1m35s\u001b[0m 7ms/step - accuracy: 0.9731 - loss: 0.0799\n",
            "Epoch 3/10\n",
            "\u001b[1m2608/2608\u001b[0m \u001b[32m━━━━━━━━━━━━━━━━━━━━\u001b[0m\u001b[37m\u001b[0m \u001b[1m21s\u001b[0m 7ms/step - accuracy: 0.9786 - loss: 0.0630\n",
            "Epoch 4/10\n",
            "\u001b[1m2608/2608\u001b[0m \u001b[32m━━━━━━━━━━━━━━━━━━━━\u001b[0m\u001b[37m\u001b[0m \u001b[1m20s\u001b[0m 7ms/step - accuracy: 0.9847 - loss: 0.0425\n",
            "Epoch 5/10\n",
            "\u001b[1m2608/2608\u001b[0m \u001b[32m━━━━━━━━━━━━━━━━━━━━\u001b[0m\u001b[37m\u001b[0m \u001b[1m21s\u001b[0m 7ms/step - accuracy: 0.9893 - loss: 0.0306\n",
            "Epoch 6/10\n",
            "\u001b[1m2608/2608\u001b[0m \u001b[32m━━━━━━━━━━━━━━━━━━━━\u001b[0m\u001b[37m\u001b[0m \u001b[1m20s\u001b[0m 7ms/step - accuracy: 0.9924 - loss: 0.0214\n",
            "Epoch 7/10\n",
            "\u001b[1m2608/2608\u001b[0m \u001b[32m━━━━━━━━━━━━━━━━━━━━\u001b[0m\u001b[37m\u001b[0m \u001b[1m19s\u001b[0m 7ms/step - accuracy: 0.9937 - loss: 0.0175\n",
            "Epoch 8/10\n",
            "\u001b[1m2608/2608\u001b[0m \u001b[32m━━━━━━━━━━━━━━━━━━━━\u001b[0m\u001b[37m\u001b[0m \u001b[1m19s\u001b[0m 7ms/step - accuracy: 0.9948 - loss: 0.0142\n",
            "Epoch 9/10\n",
            "\u001b[1m2608/2608\u001b[0m \u001b[32m━━━━━━━━━━━━━━━━━━━━\u001b[0m\u001b[37m\u001b[0m \u001b[1m20s\u001b[0m 7ms/step - accuracy: 0.9958 - loss: 0.0126\n",
            "Epoch 10/10\n",
            "\u001b[1m2608/2608\u001b[0m \u001b[32m━━━━━━━━━━━━━━━━━━━━\u001b[0m\u001b[37m\u001b[0m \u001b[1m19s\u001b[0m 7ms/step - accuracy: 0.9962 - loss: 0.0107\n"
          ]
        }
      ]
    },
    {
      "cell_type": "code",
      "source": [
        "ff_history = ff_model.fit(X_train_ff, Y_train,\n",
        "                          epochs=10,\n",
        "                          batch_size=32,\n",
        "                          verbose=1)"
      ],
      "metadata": {
        "id": "0G0ewK19My4_",
        "colab": {
          "base_uri": "https://localhost:8080/"
        },
        "outputId": "cd05ff1a-f8ac-4582-bdb3-f81dab73e91b"
      },
      "execution_count": null,
      "outputs": [
        {
          "output_type": "stream",
          "name": "stdout",
          "text": [
            "Epoch 1/10\n",
            "\u001b[1m2608/2608\u001b[0m \u001b[32m━━━━━━━━━━━━━━━━━━━━\u001b[0m\u001b[37m\u001b[0m \u001b[1m16s\u001b[0m 4ms/step - accuracy: 0.9445 - loss: 0.1518\n",
            "Epoch 2/10\n",
            "\u001b[1m2608/2608\u001b[0m \u001b[32m━━━━━━━━━━━━━━━━━━━━\u001b[0m\u001b[37m\u001b[0m \u001b[1m12s\u001b[0m 2ms/step - accuracy: 0.9724 - loss: 0.0825\n",
            "Epoch 3/10\n",
            "\u001b[1m2608/2608\u001b[0m \u001b[32m━━━━━━━━━━━━━━━━━━━━\u001b[0m\u001b[37m\u001b[0m \u001b[1m10s\u001b[0m 2ms/step - accuracy: 0.9788 - loss: 0.0675\n",
            "Epoch 4/10\n",
            "\u001b[1m2608/2608\u001b[0m \u001b[32m━━━━━━━━━━━━━━━━━━━━\u001b[0m\u001b[37m\u001b[0m \u001b[1m6s\u001b[0m 2ms/step - accuracy: 0.9812 - loss: 0.0578\n",
            "Epoch 5/10\n",
            "\u001b[1m2608/2608\u001b[0m \u001b[32m━━━━━━━━━━━━━━━━━━━━\u001b[0m\u001b[37m\u001b[0m \u001b[1m10s\u001b[0m 2ms/step - accuracy: 0.9828 - loss: 0.0510\n",
            "Epoch 6/10\n",
            "\u001b[1m2608/2608\u001b[0m \u001b[32m━━━━━━━━━━━━━━━━━━━━\u001b[0m\u001b[37m\u001b[0m \u001b[1m7s\u001b[0m 3ms/step - accuracy: 0.9849 - loss: 0.0439\n",
            "Epoch 7/10\n",
            "\u001b[1m2608/2608\u001b[0m \u001b[32m━━━━━━━━━━━━━━━━━━━━\u001b[0m\u001b[37m\u001b[0m \u001b[1m5s\u001b[0m 2ms/step - accuracy: 0.9881 - loss: 0.0365\n",
            "Epoch 8/10\n",
            "\u001b[1m2608/2608\u001b[0m \u001b[32m━━━━━━━━━━━━━━━━━━━━\u001b[0m\u001b[37m\u001b[0m \u001b[1m6s\u001b[0m 2ms/step - accuracy: 0.9900 - loss: 0.0293\n",
            "Epoch 9/10\n",
            "\u001b[1m2608/2608\u001b[0m \u001b[32m━━━━━━━━━━━━━━━━━━━━\u001b[0m\u001b[37m\u001b[0m \u001b[1m10s\u001b[0m 2ms/step - accuracy: 0.9911 - loss: 0.0251\n",
            "Epoch 10/10\n",
            "\u001b[1m2608/2608\u001b[0m \u001b[32m━━━━━━━━━━━━━━━━━━━━\u001b[0m\u001b[37m\u001b[0m \u001b[1m7s\u001b[0m 2ms/step - accuracy: 0.9919 - loss: 0.0220\n"
          ]
        }
      ]
    },
    {
      "cell_type": "code",
      "source": [
        "new_cnn_history = new_cnn_model.fit(X_train_cnn, Y_train,\n",
        "                          epochs=10,\n",
        "                          batch_size=32,\n",
        "                          verbose=1)"
      ],
      "metadata": {
        "colab": {
          "base_uri": "https://localhost:8080/"
        },
        "id": "VVakLwxdDBe5",
        "outputId": "3246d709-5d65-4ff8-c423-ceeff8320605"
      },
      "execution_count": null,
      "outputs": [
        {
          "output_type": "stream",
          "name": "stdout",
          "text": [
            "Epoch 1/10\n",
            "\u001b[1m2608/2608\u001b[0m \u001b[32m━━━━━━━━━━━━━━━━━━━━\u001b[0m\u001b[37m\u001b[0m \u001b[1m21s\u001b[0m 7ms/step - accuracy: 0.9427 - loss: 0.1598\n",
            "Epoch 2/10\n",
            "\u001b[1m2608/2608\u001b[0m \u001b[32m━━━━━━━━━━━━━━━━━━━━\u001b[0m\u001b[37m\u001b[0m \u001b[1m18s\u001b[0m 7ms/step - accuracy: 0.9696 - loss: 0.0886\n",
            "Epoch 3/10\n",
            "\u001b[1m2608/2608\u001b[0m \u001b[32m━━━━━━━━━━━━━━━━━━━━\u001b[0m\u001b[37m\u001b[0m \u001b[1m20s\u001b[0m 7ms/step - accuracy: 0.9733 - loss: 0.0761\n",
            "Epoch 4/10\n",
            "\u001b[1m2608/2608\u001b[0m \u001b[32m━━━━━━━━━━━━━━━━━━━━\u001b[0m\u001b[37m\u001b[0m \u001b[1m18s\u001b[0m 7ms/step - accuracy: 0.9788 - loss: 0.0604\n",
            "Epoch 5/10\n",
            "\u001b[1m2608/2608\u001b[0m \u001b[32m━━━━━━━━━━━━━━━━━━━━\u001b[0m\u001b[37m\u001b[0m \u001b[1m20s\u001b[0m 7ms/step - accuracy: 0.9833 - loss: 0.0444\n",
            "Epoch 6/10\n",
            "\u001b[1m2608/2608\u001b[0m \u001b[32m━━━━━━━━━━━━━━━━━━━━\u001b[0m\u001b[37m\u001b[0m \u001b[1m21s\u001b[0m 7ms/step - accuracy: 0.9866 - loss: 0.0333\n",
            "Epoch 7/10\n",
            "\u001b[1m2608/2608\u001b[0m \u001b[32m━━━━━━━━━━━━━━━━━━━━\u001b[0m\u001b[37m\u001b[0m \u001b[1m18s\u001b[0m 7ms/step - accuracy: 0.9910 - loss: 0.0235\n",
            "Epoch 8/10\n",
            "\u001b[1m2608/2608\u001b[0m \u001b[32m━━━━━━━━━━━━━━━━━━━━\u001b[0m\u001b[37m\u001b[0m \u001b[1m20s\u001b[0m 7ms/step - accuracy: 0.9941 - loss: 0.0163\n",
            "Epoch 9/10\n",
            "\u001b[1m2608/2608\u001b[0m \u001b[32m━━━━━━━━━━━━━━━━━━━━\u001b[0m\u001b[37m\u001b[0m \u001b[1m18s\u001b[0m 7ms/step - accuracy: 0.9956 - loss: 0.0121\n",
            "Epoch 10/10\n",
            "\u001b[1m2608/2608\u001b[0m \u001b[32m━━━━━━━━━━━━━━━━━━━━\u001b[0m\u001b[37m\u001b[0m \u001b[1m18s\u001b[0m 7ms/step - accuracy: 0.9967 - loss: 0.0094\n"
          ]
        }
      ]
    },
    {
      "cell_type": "code",
      "source": [
        "# Plot training & validation accuracy\n",
        "plt.plot(cnn_history.history['accuracy'], label='Train Accuracy')\n",
        "plt.xlabel('Epoch')\n",
        "plt.ylabel('Accuracy')\n",
        "plt.legend()\n",
        "plt.title('CNN Accuracy')\n",
        "plt.show()\n",
        "\n",
        "# Plot training & validation accuracy\n",
        "plt.plot(ff_history.history['accuracy'], label='Train Accuracy')\n",
        "plt.xlabel('Epoch')\n",
        "plt.ylabel('Loss')\n",
        "plt.legend()\n",
        "plt.title('Feed Forward Accuracy')\n",
        "plt.show()\n",
        "\n",
        "# Plot training & validation accuracy\n",
        "plt.plot(new_cnn_history.history['accuracy'], label='Train Accuracy')\n",
        "plt.xlabel('Epoch')\n",
        "plt.ylabel('Loss')\n",
        "plt.legend()\n",
        "plt.title('New CNN Accuracy')\n",
        "plt.show()"
      ],
      "metadata": {
        "id": "WlDCrjhfM-Zc",
        "colab": {
          "base_uri": "https://localhost:8080/",
          "height": 1000
        },
        "outputId": "23be9ffe-82ad-4e25-b182-e45f9a496aab"
      },
      "execution_count": null,
      "outputs": [
        {
          "output_type": "display_data",
          "data": {
            "text/plain": [
              "<Figure size 640x480 with 1 Axes>"
            ],
            "image/png": "[encoded data removed]"
          },
          "metadata": {}
        },
        {
          "output_type": "display_data",
          "data": {
            "text/plain": [
              "<Figure size 640x480 with 1 Axes>"
            ],
            "image/png": "[encoded data removed]"
          },
          "metadata": {}
        },
        {
          "output_type": "display_data",
          "data": {
            "text/plain": [
              "<Figure size 640x480 with 1 Axes>"
            ],
            "image/png": "[encoded data removed]"
          },
          "metadata": {}
        }
      ]
    },
    {
      "cell_type": "code",
      "source": [
        "# Save models to Drive\n",
        "cnn_model.save(os.path.join(model_path, 'cnn_model.keras'))\n",
        "ff_model.save(os.path.join(model_path, 'ff_model.keras'))\n",
        "new_cnn_model.save(os.path.join(model_path, 'new_cnn_model.keras'))"
      ],
      "metadata": {
        "id": "y5H7ELiwDS39"
      },
      "execution_count": null,
      "outputs": []
    },
    {
      "cell_type": "markdown",
      "source": [
        "## Test Set"
      ],
      "metadata": {
        "id": "gSULX52PDZDP"
      }
    },
    {
      "cell_type": "code",
      "source": [
        "# Load models\n",
        "cnn_model = load_model(os.path.join(model_path, 'cnn_model.keras'))\n",
        "ff_model = load_model(os.path.join(model_path, 'ff_model.keras'))\n",
        "new_cnn_model = load_model(os.path.join(model_path, 'new_cnn_model.keras'))"
      ],
      "metadata": {
        "id": "9o7DBvL1DcqO"
      },
      "execution_count": null,
      "outputs": []
    },
    {
      "cell_type": "markdown",
      "source": [
        "Threshold: 0.5"
      ],
      "metadata": {
        "id": "18ZddXwwD4DR"
      }
    },
    {
      "cell_type": "code",
      "source": [
        "# Apply to test set\n",
        "y_pred_prob = cnn_model.predict(X_test_cnn)\n",
        "y_pred = (y_pred_prob > 0.5).astype(int) # Threshold: 0.5\n",
        "\n",
        "accuracy = accuracy_score(Y_test, y_pred)\n",
        "print(f\"Test Accuracy: {accuracy:.4f}\")"
      ],
      "metadata": {
        "id": "703GSLriNbzr",
        "colab": {
          "base_uri": "https://localhost:8080/"
        },
        "outputId": "0970246f-676c-48b5-ab1a-85b4c1013a0d"
      },
      "execution_count": null,
      "outputs": [
        {
          "output_type": "stream",
          "name": "stdout",
          "text": [
            "\u001b[1m652/652\u001b[0m \u001b[32m━━━━━━━━━━━━━━━━━━━━\u001b[0m\u001b[37m\u001b[0m \u001b[1m2s\u001b[0m 2ms/step\n",
            "Test Accuracy: 0.9724\n"
          ]
        }
      ]
    },
    {
      "cell_type": "code",
      "source": [
        "test_loss, test_acc = ff_model.evaluate(X_test_ff, Y_test)\n",
        "print(f'Test accuracy: {test_acc:.4f}')"
      ],
      "metadata": {
        "id": "olbLjqpiNgcM",
        "colab": {
          "base_uri": "https://localhost:8080/"
        },
        "outputId": "54931cb0-ae96-48d4-98c7-f0fa744eb132"
      },
      "execution_count": null,
      "outputs": [
        {
          "output_type": "stream",
          "name": "stdout",
          "text": [
            "\u001b[1m652/652\u001b[0m \u001b[32m━━━━━━━━━━━━━━━━━━━━\u001b[0m\u001b[37m\u001b[0m \u001b[1m2s\u001b[0m 2ms/step - accuracy: 0.9772 - loss: 0.1076\n",
            "Test accuracy: 0.9748\n"
          ]
        }
      ]
    },
    {
      "cell_type": "code",
      "source": [
        "new_y_pred_prob = new_cnn_model.predict(X_test_cnn)\n",
        "new_y_pred = (new_y_pred_prob > 0.5).astype(int) # Threshold: 0.5\n",
        "\n",
        "new_accuracy = accuracy_score(Y_test, new_y_pred)\n",
        "print(f\"Test Accuracy: {new_accuracy:.4f}\")"
      ],
      "metadata": {
        "colab": {
          "base_uri": "https://localhost:8080/"
        },
        "id": "VRzm546pDgzo",
        "outputId": "3fc7ee2a-5f07-4ab2-d41f-fb6023433dcb"
      },
      "execution_count": null,
      "outputs": [
        {
          "output_type": "stream",
          "name": "stdout",
          "text": [
            "\u001b[1m652/652\u001b[0m \u001b[32m━━━━━━━━━━━━━━━━━━━━\u001b[0m\u001b[37m\u001b[0m \u001b[1m1s\u001b[0m 2ms/step\n",
            "Test Accuracy: 0.9699\n"
          ]
        }
      ]
    },
    {
      "cell_type": "markdown",
      "source": [
        "## YouTube"
      ],
      "metadata": {
        "id": "jE6J8oMoEFm5"
      }
    },
    {
      "cell_type": "code",
      "source": [
        "# Load models\n",
        "cnn_model = load_model(os.path.join(model_path, 'cnn_model.keras'))\n",
        "ff_model = load_model(os.path.join(model_path, 'ff_model.keras'))\n",
        "new_cnn_model = load_model(os.path.join(model_path, 'new_cnn_model.keras'))"
      ],
      "metadata": {
        "id": "FVsVT1dXEHke"
      },
      "execution_count": null,
      "outputs": []
    },
    {
      "cell_type": "code",
      "source": [
        "youtube_embeddings = np.load(folder_path + '/youtube_embeddings.npy', allow_pickle=True) # Shape: (22, 1536)\n",
        "youtube_metadata = np.load(folder_path + '/youtube_metadatas.npy', allow_pickle=True) # Shape: (22,)\n",
        "\n",
        "print(f\"Embeddings shape: {youtube_embeddings.shape}\")\n",
        "print(f\"Labels shape: {youtube_metadata.shape}\")"
      ],
      "metadata": {
        "colab": {
          "base_uri": "https://localhost:8080/"
        },
        "id": "zJdyEaTuE6xK",
        "outputId": "53ef10bb-2b18-47ed-b8f3-b2b02f8ea3e1"
      },
      "execution_count": null,
      "outputs": [
        {
          "output_type": "stream",
          "name": "stdout",
          "text": [
            "Embeddings shape: (22, 1536)\n",
            "Labels shape: (22,)\n"
          ]
        }
      ]
    },
    {
      "cell_type": "code",
      "source": [
        "# Group by source\n",
        "src_groups = {}\n",
        "for i, entry in enumerate(youtube_metadata):\n",
        "  src = entry['source']\n",
        "  if src not in src_groups:\n",
        "    src_groups[src] = {'embeddings': [], 'filenames': []}\n",
        "  src_groups[src]['embeddings'].append(youtube_embeddings[i])\n",
        "  src_groups[src]['filenames'].append(entry['filename'])\n",
        "\n",
        "# Convert lists to numpy arrays\n",
        "for src, data in src_groups.items():\n",
        "  src_groups[src]['embeddings'] = np.array(data['embeddings'])\n",
        "  src_groups[src]['filenames'] = np.array(data['filenames'])"
      ],
      "metadata": {
        "id": "A6LL6XP4E9jA"
      },
      "execution_count": null,
      "outputs": []
    },
    {
      "cell_type": "code",
      "source": [
        "cnn_src_results = {}\n",
        "ff_src_results = {}\n",
        "new_cnn_src_results = {}\n",
        "for src, data in src_groups.items():\n",
        "  embeddings = data['embeddings']\n",
        "  embeddings_cnn = embeddings[..., np.newaxis] # Expand shape\n",
        "  filenames = data['filenames']\n",
        "\n",
        "  # Predict probabilities\n",
        "  cnn_pred_prob = cnn_model.predict(embeddings_cnn)\n",
        "  ff_pred_prob = ff_model.predict(embeddings)\n",
        "  new_cnn_pred_prob = new_cnn_model.predict(embeddings_cnn)\n",
        "\n",
        "  # Store results\n",
        "  cnn_src_results[src] = {\n",
        "    'src': src,\n",
        "    'predictions': cnn_pred_prob,\n",
        "    'filenames': filenames,\n",
        "  }\n",
        "  ff_src_results[src] = {\n",
        "    'src': src,\n",
        "    'predictions': ff_pred_prob,\n",
        "    'filenames': filenames,\n",
        "  }\n",
        "  new_cnn_src_results[src] = {\n",
        "    'src': src,\n",
        "    'predictions': new_cnn_pred_prob,\n",
        "    'filenames': filenames,\n",
        "  }"
      ],
      "metadata": {
        "colab": {
          "base_uri": "https://localhost:8080/"
        },
        "id": "Jzf7Sfb0E-T7",
        "outputId": "fef138ec-8d6e-4e94-8058-247321ff0f11"
      },
      "execution_count": null,
      "outputs": [
        {
          "output_type": "stream",
          "name": "stdout",
          "text": [
            "\u001b[1m1/1\u001b[0m \u001b[32m━━━━━━━━━━━━━━━━━━━━\u001b[0m\u001b[37m\u001b[0m \u001b[1m1s\u001b[0m 772ms/step\n",
            "\u001b[1m1/1\u001b[0m \u001b[32m━━━━━━━━━━━━━━━━━━━━\u001b[0m\u001b[37m\u001b[0m \u001b[1m1s\u001b[0m 546ms/step\n",
            "\u001b[1m1/1\u001b[0m \u001b[32m━━━━━━━━━━━━━━━━━━━━\u001b[0m\u001b[37m\u001b[0m \u001b[1m0s\u001b[0m 400ms/step\n",
            "\u001b[1m1/1\u001b[0m \u001b[32m━━━━━━━━━━━━━━━━━━━━\u001b[0m\u001b[37m\u001b[0m \u001b[1m0s\u001b[0m 29ms/step\n",
            "\u001b[1m1/1\u001b[0m \u001b[32m━━━━━━━━━━━━━━━━━━━━\u001b[0m\u001b[37m\u001b[0m \u001b[1m0s\u001b[0m 29ms/step\n",
            "\u001b[1m1/1\u001b[0m \u001b[32m━━━━━━━━━━━━━━━━━━━━\u001b[0m\u001b[37m\u001b[0m \u001b[1m0s\u001b[0m 52ms/step\n",
            "\u001b[1m1/1\u001b[0m \u001b[32m━━━━━━━━━━━━━━━━━━━━\u001b[0m\u001b[37m\u001b[0m \u001b[1m1s\u001b[0m 548ms/step\n",
            "\u001b[1m1/1\u001b[0m \u001b[32m━━━━━━━━━━━━━━━━━━━━\u001b[0m\u001b[37m\u001b[0m \u001b[1m0s\u001b[0m 421ms/step\n",
            "\u001b[1m1/1\u001b[0m \u001b[32m━━━━━━━━━━━━━━━━━━━━\u001b[0m\u001b[37m\u001b[0m \u001b[1m1s\u001b[0m 623ms/step\n",
            "\u001b[1m1/1\u001b[0m \u001b[32m━━━━━━━━━━━━━━━━━━━━\u001b[0m\u001b[37m\u001b[0m \u001b[1m1s\u001b[0m 675ms/step\n",
            "\u001b[1m1/1\u001b[0m \u001b[32m━━━━━━━━━━━━━━━━━━━━\u001b[0m\u001b[37m\u001b[0m \u001b[1m0s\u001b[0m 432ms/step\n",
            "\u001b[1m1/1\u001b[0m \u001b[32m━━━━━━━━━━━━━━━━━━━━\u001b[0m\u001b[37m\u001b[0m \u001b[1m1s\u001b[0m 539ms/step\n",
            "\u001b[1m1/1\u001b[0m \u001b[32m━━━━━━━━━━━━━━━━━━━━\u001b[0m\u001b[37m\u001b[0m \u001b[1m0s\u001b[0m 33ms/step\n",
            "\u001b[1m1/1\u001b[0m \u001b[32m━━━━━━━━━━━━━━━━━━━━\u001b[0m\u001b[37m\u001b[0m \u001b[1m0s\u001b[0m 100ms/step\n",
            "\u001b[1m1/1\u001b[0m \u001b[32m━━━━━━━━━━━━━━━━━━━━\u001b[0m\u001b[37m\u001b[0m \u001b[1m0s\u001b[0m 42ms/step\n"
          ]
        }
      ]
    },
    {
      "cell_type": "code",
      "source": [
        "for src in cnn_src_results.keys():\n",
        "  cnn_predictions = cnn_src_results[src]['predictions']\n",
        "  ff_predictions = ff_src_results[src]['predictions']\n",
        "  new_cnn_predictions = new_cnn_src_results[src]['predictions']\n",
        "  filenames = cnn_src_results[src]['filenames']\n",
        "\n",
        "  print(f\"Source: {src}\")\n",
        "  for filename, cnn_pred, ff_pred, new_cnn_pred in zip(filenames, cnn_predictions, ff_predictions, new_cnn_predictions):\n",
        "    print(f\"  Filename: {filename}\")\n",
        "    if cnn_pred[0] > 0.5:\n",
        "      print(f\"  CNN Peace Prediction: {cnn_pred[0]:.4f}, True\")\n",
        "    else:\n",
        "      print(f\"  CNN Peace Prediction: {cnn_pred[0]:.4f}, False\")\n",
        "    if ff_pred[0] > 0.5:\n",
        "      print(f\"  FF Peace Prediction: {ff_pred[0]:.4f}, True\")\n",
        "    else:\n",
        "      print(f\"  FF Peace Prediction: {ff_pred[0]:.4f}, False\")\n",
        "    if new_cnn_pred[0] > 0.5:\n",
        "      print(f\"  New CNN Peace Prediction: {new_cnn_pred[0]:.4f}, True\")\n",
        "    else:\n",
        "      print(f\"  New CNN Peace Prediction: {new_cnn_pred[0]:.4f}, False\")\n",
        "    print()"
      ],
      "metadata": {
        "colab": {
          "base_uri": "https://localhost:8080/"
        },
        "id": "rsrq_GkbFK2x",
        "outputId": "99c0fcd2-acb1-4320-f0f3-154d1729943b"
      },
      "execution_count": null,
      "outputs": [
        {
          "output_type": "stream",
          "name": "stdout",
          "text": [
            "Source: nyt\n",
            "  Filename: _tO9ZPTDk5o.txt\n",
            "  CNN Peace Prediction: 1.0000, True\n",
            "  FF Peace Prediction: 1.0000, True\n",
            "  New CNN Peace Prediction: 1.0000, True\n",
            "\n",
            "  Filename: QXw52ETHd28.txt\n",
            "  CNN Peace Prediction: 1.0000, True\n",
            "  FF Peace Prediction: 1.0000, True\n",
            "  New CNN Peace Prediction: 1.0000, True\n",
            "\n",
            "  Filename: dUyM-vaV0eE.txt\n",
            "  CNN Peace Prediction: 1.0000, True\n",
            "  FF Peace Prediction: 1.0000, True\n",
            "  New CNN Peace Prediction: 1.0000, True\n",
            "\n",
            "  Filename: HyzGkEV3p2g.txt\n",
            "  CNN Peace Prediction: 1.0000, True\n",
            "  FF Peace Prediction: 1.0000, True\n",
            "  New CNN Peace Prediction: 0.9992, True\n",
            "\n",
            "  Filename: ocwRXjhyU1M.txt\n",
            "  CNN Peace Prediction: 1.0000, True\n",
            "  FF Peace Prediction: 1.0000, True\n",
            "  New CNN Peace Prediction: 1.0000, True\n",
            "\n",
            "Source: cnn\n",
            "  Filename: KMVSP2iYxQU.txt\n",
            "  CNN Peace Prediction: 1.0000, True\n",
            "  FF Peace Prediction: 1.0000, True\n",
            "  New CNN Peace Prediction: 1.0000, True\n",
            "\n",
            "  Filename: z_7QF-cJ1sY.txt\n",
            "  CNN Peace Prediction: 1.0000, True\n",
            "  FF Peace Prediction: 1.0000, True\n",
            "  New CNN Peace Prediction: 1.0000, True\n",
            "\n",
            "  Filename: fyckT-tFRfE.txt\n",
            "  CNN Peace Prediction: 1.0000, True\n",
            "  FF Peace Prediction: 1.0000, True\n",
            "  New CNN Peace Prediction: 1.0000, True\n",
            "\n",
            "  Filename: JXf13fKBupg.txt\n",
            "  CNN Peace Prediction: 1.0000, True\n",
            "  FF Peace Prediction: 1.0000, True\n",
            "  New CNN Peace Prediction: 1.0000, True\n",
            "\n",
            "  Filename: gKU6eujm0Ts.txt\n",
            "  CNN Peace Prediction: 1.0000, True\n",
            "  FF Peace Prediction: 1.0000, True\n",
            "  New CNN Peace Prediction: 1.0000, True\n",
            "\n",
            "Source: nbc\n",
            "  Filename: D5_UUx1gdMQ.txt\n",
            "  CNN Peace Prediction: 1.0000, True\n",
            "  FF Peace Prediction: 0.9997, True\n",
            "  New CNN Peace Prediction: 1.0000, True\n",
            "\n",
            "  Filename: qj_O30DYXYY.txt\n",
            "  CNN Peace Prediction: 1.0000, True\n",
            "  FF Peace Prediction: 1.0000, True\n",
            "  New CNN Peace Prediction: 1.0000, True\n",
            "\n",
            "  Filename: DieI-QqcFoQ.txt\n",
            "  CNN Peace Prediction: 1.0000, True\n",
            "  FF Peace Prediction: 0.9997, True\n",
            "  New CNN Peace Prediction: 1.0000, True\n",
            "\n",
            "  Filename: eDgA4hszFzY.txt\n",
            "  CNN Peace Prediction: 1.0000, True\n",
            "  FF Peace Prediction: 1.0000, True\n",
            "  New CNN Peace Prediction: 1.0000, True\n",
            "\n",
            "Source: washington_post\n",
            "  Filename: sEwDBsR1XO4.txt\n",
            "  CNN Peace Prediction: 1.0000, True\n",
            "  FF Peace Prediction: 0.9998, True\n",
            "  New CNN Peace Prediction: 1.0000, True\n",
            "\n",
            "  Filename: CQS6GM1VpzM.txt\n",
            "  CNN Peace Prediction: 1.0000, True\n",
            "  FF Peace Prediction: 1.0000, True\n",
            "  New CNN Peace Prediction: 1.0000, True\n",
            "\n",
            "  Filename: gouPX05nPr0.txt\n",
            "  CNN Peace Prediction: 1.0000, True\n",
            "  FF Peace Prediction: 1.0000, True\n",
            "  New CNN Peace Prediction: 1.0000, True\n",
            "\n",
            "Source: breitbart_news\n",
            "  Filename: gBr5-ZmsPlQ.txt\n",
            "  CNN Peace Prediction: 1.0000, True\n",
            "  FF Peace Prediction: 1.0000, True\n",
            "  New CNN Peace Prediction: 1.0000, True\n",
            "\n",
            "  Filename: dQwg0fCohqQ.txt\n",
            "  CNN Peace Prediction: 1.0000, True\n",
            "  FF Peace Prediction: 1.0000, True\n",
            "  New CNN Peace Prediction: 1.0000, True\n",
            "\n",
            "  Filename: gnONxiwGBzA.txt\n",
            "  CNN Peace Prediction: 1.0000, True\n",
            "  FF Peace Prediction: 1.0000, True\n",
            "  New CNN Peace Prediction: 1.0000, True\n",
            "\n",
            "  Filename: 2ioZ96c2hj0.txt\n",
            "  CNN Peace Prediction: 1.0000, True\n",
            "  FF Peace Prediction: 1.0000, True\n",
            "  New CNN Peace Prediction: 0.9999, True\n",
            "\n",
            "  Filename: HbQopCTvDUQ.txt\n",
            "  CNN Peace Prediction: 1.0000, True\n",
            "  FF Peace Prediction: 0.9977, True\n",
            "  New NN Peace Prediction: 0.1652, False\n",
            "\n"
          ]
        }
      ]
    },
    {
      "cell_type": "markdown",
      "source": [
        "## Capstone"
      ],
      "metadata": {
        "id": "7i7dsAlkFQJ3"
      }
    },
    {
      "cell_type": "code",
      "source": [
        "# Load models\n",
        "cnn_model = load_model(os.path.join(model_path, 'cnn_model.keras'))\n",
        "ff_model = load_model(os.path.join(model_path, 'ff_model.keras'))\n",
        "new_cnn_model = load_model(os.path.join(model_path, 'new_cnn_model.keras'))"
      ],
      "metadata": {
        "id": "8OPQL4a1FUYJ"
      },
      "execution_count": null,
      "outputs": []
    },
    {
      "cell_type": "code",
      "source": [
        "capstone_embeddings = np.load(folder_path + '/sampled_embeddings.npy', allow_pickle=True) # Shape: (3200, 1536)\n",
        "capstone_metadata = np.load(folder_path + '/sampled_metadatas.npy', allow_pickle=True) # Shape: (3200,)\n",
        "\n",
        "print(f\"Embeddings shape: {capstone_embeddings.shape}\")\n",
        "print(f\"Labels shape: {capstone_metadata.shape}\")"
      ],
      "metadata": {
        "colab": {
          "base_uri": "https://localhost:8080/"
        },
        "id": "KhBv_FxBFVxD",
        "outputId": "57099e09-7c19-4a5b-fd3b-cb06bebf9f3a"
      },
      "execution_count": null,
      "outputs": [
        {
          "output_type": "stream",
          "name": "stdout",
          "text": [
            "Embeddings shape: (3200, 1536)\n",
            "Labels shape: (3200,)\n"
          ]
        }
      ]
    },
    {
      "cell_type": "code",
      "source": [
        "# Group by country\n",
        "country_groups = {}\n",
        "for i, entry in enumerate(capstone_metadata):\n",
        "  country = entry['country']\n",
        "  if country not in country_groups:\n",
        "    country_groups[country] = {'embeddings': [], 'labels': []}\n",
        "  country_groups[country]['embeddings'].append(capstone_embeddings[i])\n",
        "  country_groups[country]['labels'].append(entry['peace'])\n",
        "\n",
        "# Convert lists to numpy arrays\n",
        "for country, data in country_groups.items():\n",
        "  country_groups[country]['embeddings'] = np.array(data['embeddings'])\n",
        "  country_groups[country]['labels'] = np.array(data['labels'])"
      ],
      "metadata": {
        "id": "cu0qIKkPFYiv"
      },
      "execution_count": null,
      "outputs": []
    },
    {
      "cell_type": "code",
      "source": [
        "# Test each country\n",
        "cnn_country_results = {}\n",
        "ff_country_results = {}\n",
        "new_cnn_country_results = {}\n",
        "for country, data in country_groups.items():\n",
        "  embeddings = data['embeddings']\n",
        "  embeddings_cnn = embeddings[..., np.newaxis] # Expand shape\n",
        "  labels = data['labels']\n",
        "\n",
        "  # Predict probabilities w/ CNN\n",
        "  cnn_pred_prob = cnn_model.predict(embeddings_cnn)\n",
        "  cnn_avg_pred = np.mean(cnn_pred_prob)\n",
        "\n",
        "  # Predict probabilities w/ FF\n",
        "  ff_pred_prob = ff_model.predict(embeddings)\n",
        "  ff_avg_pred = np.mean(ff_pred_prob)\n",
        "\n",
        "  # Predict probabilities w/ New CNN\n",
        "  new_cnn_pred_prob = new_cnn_model.predict(embeddings_cnn)\n",
        "  new_cnn_avg_pred = np.mean(new_cnn_pred_prob)\n",
        "\n",
        "  # Classify country as peaceful or not\n",
        "  cnn_country_peace = cnn_avg_pred > 0.5\n",
        "  ff_country_peace = ff_avg_pred > 0.5\n",
        "  new_cnn_country_peace = new_cnn_avg_pred > 0.5\n",
        "\n",
        "  # Count peaceful classifications\n",
        "  num_cnn_peaceful = np.sum((cnn_pred_prob > 0.5).astype(int))\n",
        "  num_ff_peaceful = np.sum((ff_pred_prob > 0.5).astype(int))\n",
        "  num_new_cnn_peaceful = np.sum((new_cnn_pred_prob > 0.5).astype(int))\n",
        "\n",
        "  # Count peaceful true labels\n",
        "  num_true_peaceful = np.sum(labels)\n",
        "\n",
        "  # Store results\n",
        "  cnn_country_results[country] = {\n",
        "    'avg_prediction': cnn_avg_pred,\n",
        "    'peaceful': cnn_country_peace,\n",
        "    'true_labels': labels,\n",
        "    'num_peaceful_preds': num_cnn_peaceful,\n",
        "    'true_peaceful_count': num_true_peaceful\n",
        "  }\n",
        "  ff_country_results[country] = {\n",
        "    'avg_prediction': ff_avg_pred,\n",
        "    'peaceful': ff_country_peace,\n",
        "    'true_labels': labels,\n",
        "    'num_peaceful_preds': num_ff_peaceful,\n",
        "    'true_peaceful_count': num_true_peaceful\n",
        "  }\n",
        "  new_cnn_country_results[country] = {\n",
        "    'avg_prediction': new_cnn_avg_pred,\n",
        "    'peaceful': new_cnn_country_peace,\n",
        "    'true_labels': labels,\n",
        "    'num_peaceful_preds': num_new_cnn_peaceful,\n",
        "    'true_peaceful_count': num_true_peaceful\n",
        "  }"
      ],
      "metadata": {
        "colab": {
          "base_uri": "https://localhost:8080/"
        },
        "id": "iNpf99WxFau6",
        "outputId": "28a88234-2f1b-4ef7-cf7c-ff9552758765"
      },
      "execution_count": null,
      "outputs": [
        {
          "output_type": "stream",
          "name": "stdout",
          "text": [
            "\u001b[1m7/7\u001b[0m \u001b[32m━━━━━━━━━━━━━━━━━━━━\u001b[0m\u001b[37m\u001b[0m \u001b[1m1s\u001b[0m 100ms/step\n",
            "\u001b[1m7/7\u001b[0m \u001b[32m━━━━━━━━━━━━━━━━━━━━\u001b[0m\u001b[37m\u001b[0m \u001b[1m1s\u001b[0m 49ms/step\n",
            "\u001b[1m7/7\u001b[0m \u001b[32m━━━━━━━━━━━━━━━━━━━━\u001b[0m\u001b[37m\u001b[0m \u001b[1m0s\u001b[0m 59ms/step\n",
            "\u001b[1m7/7\u001b[0m \u001b[32m━━━━━━━━━━━━━━━━━━━━\u001b[0m\u001b[37m\u001b[0m \u001b[1m0s\u001b[0m 3ms/step \n",
            "\u001b[1m7/7\u001b[0m \u001b[32m━━━━━━━━━━━━━━━━━━━━\u001b[0m\u001b[37m\u001b[0m \u001b[1m0s\u001b[0m 2ms/step \n",
            "\u001b[1m7/7\u001b[0m \u001b[32m━━━━━━━━━━━━━━━━━━━━\u001b[0m\u001b[37m\u001b[0m \u001b[1m0s\u001b[0m 2ms/step \n",
            "\u001b[1m7/7\u001b[0m \u001b[32m━━━━━━━━━━━━━━━━━━━━\u001b[0m\u001b[37m\u001b[0m \u001b[1m0s\u001b[0m 3ms/step \n",
            "\u001b[1m7/7\u001b[0m \u001b[32m━━━━━━━━━━━━━━━━━━━━\u001b[0m\u001b[37m\u001b[0m \u001b[1m0s\u001b[0m 2ms/step \n",
            "\u001b[1m7/7\u001b[0m \u001b[32m━━━━━━━━━━━━━━━━━━━━\u001b[0m\u001b[37m\u001b[0m \u001b[1m0s\u001b[0m 3ms/step \n",
            "\u001b[1m7/7\u001b[0m \u001b[32m━━━━━━━━━━━━━━━━━━━━\u001b[0m\u001b[37m\u001b[0m \u001b[1m0s\u001b[0m 3ms/step \n",
            "\u001b[1m7/7\u001b[0m \u001b[32m━━━━━━━━━━━━━━━━━━━━\u001b[0m\u001b[37m\u001b[0m \u001b[1m0s\u001b[0m 2ms/step \n",
            "\u001b[1m7/7\u001b[0m \u001b[32m━━━━━━━━━━━━━━━━━━━━\u001b[0m\u001b[37m\u001b[0m \u001b[1m0s\u001b[0m 2ms/step \n",
            "\u001b[1m7/7\u001b[0m \u001b[32m━━━━━━━━━━━━━━━━━━━━\u001b[0m\u001b[37m\u001b[0m \u001b[1m0s\u001b[0m 2ms/step \n",
            "\u001b[1m7/7\u001b[0m \u001b[32m━━━━━━━━━━━━━━━━━━━━\u001b[0m\u001b[37m\u001b[0m \u001b[1m0s\u001b[0m 2ms/step \n",
            "\u001b[1m7/7\u001b[0m \u001b[32m━━━━━━━━━━━━━━━━━━━━\u001b[0m\u001b[37m\u001b[0m \u001b[1m0s\u001b[0m 2ms/step \n",
            "\u001b[1m7/7\u001b[0m \u001b[32m━━━━━━━━━━━━━━━━━━━━\u001b[0m\u001b[37m\u001b[0m \u001b[1m0s\u001b[0m 2ms/step \n",
            "\u001b[1m7/7\u001b[0m \u001b[32m━━━━━━━━━━━━━━━━━━━━\u001b[0m\u001b[37m\u001b[0m \u001b[1m0s\u001b[0m 2ms/step \n",
            "\u001b[1m7/7\u001b[0m \u001b[32m━━━━━━━━━━━━━━━━━━━━\u001b[0m\u001b[37m\u001b[0m \u001b[1m0s\u001b[0m 3ms/step \n",
            "\u001b[1m7/7\u001b[0m \u001b[32m━━━━━━━━━━━━━━━━━━━━\u001b[0m\u001b[37m\u001b[0m \u001b[1m0s\u001b[0m 2ms/step \n",
            "\u001b[1m7/7\u001b[0m \u001b[32m━━━━━━━━━━━━━━━━━━━━\u001b[0m\u001b[37m\u001b[0m \u001b[1m0s\u001b[0m 2ms/step \n",
            "\u001b[1m7/7\u001b[0m \u001b[32m━━━━━━━━━━━━━━━━━━━━\u001b[0m\u001b[37m\u001b[0m \u001b[1m0s\u001b[0m 2ms/step \n",
            "\u001b[1m7/7\u001b[0m \u001b[32m━━━━━━━━━━━━━━━━━━━━\u001b[0m\u001b[37m\u001b[0m \u001b[1m0s\u001b[0m 2ms/step \n",
            "\u001b[1m7/7\u001b[0m \u001b[32m━━━━━━━━━━━━━━━━━━━━\u001b[0m\u001b[37m\u001b[0m \u001b[1m0s\u001b[0m 2ms/step \n",
            "\u001b[1m7/7\u001b[0m \u001b[32m━━━━━━━━━━━━━━━━━━━━\u001b[0m\u001b[37m\u001b[0m \u001b[1m0s\u001b[0m 2ms/step \n",
            "\u001b[1m7/7\u001b[0m \u001b[32m━━━━━━━━━━━━━━━━━━━━\u001b[0m\u001b[37m\u001b[0m \u001b[1m0s\u001b[0m 2ms/step \n",
            "\u001b[1m7/7\u001b[0m \u001b[32m━━━━━━━━━━━━━━━━━━━━\u001b[0m\u001b[37m\u001b[0m \u001b[1m0s\u001b[0m 2ms/step \n",
            "\u001b[1m7/7\u001b[0m \u001b[32m━━━━━━━━━━━━━━━━━━━━\u001b[0m\u001b[37m\u001b[0m \u001b[1m0s\u001b[0m 2ms/step \n",
            "\u001b[1m7/7\u001b[0m \u001b[32m━━━━━━━━━━━━━━━━━━━━\u001b[0m\u001b[37m\u001b[0m \u001b[1m0s\u001b[0m 2ms/step \n",
            "\u001b[1m7/7\u001b[0m \u001b[32m━━━━━━━━━━━━━━━━━━━━\u001b[0m\u001b[37m\u001b[0m \u001b[1m0s\u001b[0m 2ms/step \n",
            "\u001b[1m7/7\u001b[0m \u001b[32m━━━━━━━━━━━━━━━━━━━━\u001b[0m\u001b[37m\u001b[0m \u001b[1m0s\u001b[0m 2ms/step \n",
            "\u001b[1m7/7\u001b[0m \u001b[32m━━━━━━━━━━━━━━━━━━━━\u001b[0m\u001b[37m\u001b[0m \u001b[1m0s\u001b[0m 2ms/step \n",
            "\u001b[1m7/7\u001b[0m \u001b[32m━━━━━━━━━━━━━━━━━━━━\u001b[0m\u001b[37m\u001b[0m \u001b[1m0s\u001b[0m 1ms/step \n",
            "\u001b[1m7/7\u001b[0m \u001b[32m━━━━━━━━━━━━━━━━━━━━\u001b[0m\u001b[37m\u001b[0m \u001b[1m0s\u001b[0m 2ms/step \n",
            "\u001b[1m7/7\u001b[0m \u001b[32m━━━━━━━━━━━━━━━━━━━━\u001b[0m\u001b[37m\u001b[0m \u001b[1m0s\u001b[0m 2ms/step \n",
            "\u001b[1m7/7\u001b[0m \u001b[32m━━━━━━━━━━━━━━━━━━━━\u001b[0m\u001b[37m\u001b[0m \u001b[1m0s\u001b[0m 2ms/step \n",
            "\u001b[1m7/7\u001b[0m \u001b[32m━━━━━━━━━━━━━━━━━━━━\u001b[0m\u001b[37m\u001b[0m \u001b[1m0s\u001b[0m 2ms/step \n",
            "\u001b[1m7/7\u001b[0m \u001b[32m━━━━━━━━━━━━━━━━━━━━\u001b[0m\u001b[37m\u001b[0m \u001b[1m0s\u001b[0m 2ms/step \n",
            "\u001b[1m7/7\u001b[0m \u001b[32m━━━━━━━━━━━━━━━━━━━━\u001b[0m\u001b[37m\u001b[0m \u001b[1m0s\u001b[0m 2ms/step \n",
            "\u001b[1m7/7\u001b[0m \u001b[32m━━━━━━━━━━━━━━━━━━━━\u001b[0m\u001b[37m\u001b[0m \u001b[1m0s\u001b[0m 2ms/step \n",
            "\u001b[1m7/7\u001b[0m \u001b[32m━━━━━━━━━━━━━━━━━━━━\u001b[0m\u001b[37m\u001b[0m \u001b[1m0s\u001b[0m 2ms/step \n",
            "\u001b[1m7/7\u001b[0m \u001b[32m━━━━━━━━━━━━━━━━━━━━\u001b[0m\u001b[37m\u001b[0m \u001b[1m0s\u001b[0m 2ms/step \n",
            "\u001b[1m7/7\u001b[0m \u001b[32m━━━━━━━━━━━━━━━━━━━━\u001b[0m\u001b[37m\u001b[0m \u001b[1m0s\u001b[0m 3ms/step \n",
            "\u001b[1m7/7\u001b[0m \u001b[32m━━━━━━━━━━━━━━━━━━━━\u001b[0m\u001b[37m\u001b[0m \u001b[1m0s\u001b[0m 2ms/step \n",
            "\u001b[1m7/7\u001b[0m \u001b[32m━━━━━━━━━━━━━━━━━━━━\u001b[0m\u001b[37m\u001b[0m \u001b[1m0s\u001b[0m 2ms/step \n",
            "\u001b[1m7/7\u001b[0m \u001b[32m━━━━━━━━━━━━━━━━━━━━\u001b[0m\u001b[37m\u001b[0m \u001b[1m0s\u001b[0m 2ms/step \n",
            "\u001b[1m7/7\u001b[0m \u001b[32m━━━━━━━━━━━━━━━━━━━━\u001b[0m\u001b[37m\u001b[0m \u001b[1m0s\u001b[0m 2ms/step \n",
            "\u001b[1m7/7\u001b[0m \u001b[32m━━━━━━━━━━━━━━━━━━━━\u001b[0m\u001b[37m\u001b[0m \u001b[1m0s\u001b[0m 2ms/step \n",
            "\u001b[1m7/7\u001b[0m \u001b[32m━━━━━━━━━━━━━━━━━━━━\u001b[0m\u001b[37m\u001b[0m \u001b[1m0s\u001b[0m 2ms/step \n"
          ]
        }
      ]
    },
    {
      "cell_type": "code",
      "source": [
        "for country in cnn_country_results.keys():\n",
        "  cnn_result = cnn_country_results[country]\n",
        "  ff_result = ff_country_results[country]\n",
        "  new_cnn_result = new_cnn_country_results[country]\n",
        "  print(f\"Country: {country}\")\n",
        "  print(f\"CNN:\")\n",
        "  print(f\"  Avg Prediction: {cnn_result['avg_prediction']:.4f}\")\n",
        "  print(f\"  Peaceful ratio: {np.sum(cnn_result['num_peaceful_preds'])} / {len(cnn_result['true_labels'])}\")\n",
        "  print(f\"  Peace Prediction: {cnn_result['peaceful']}\")\n",
        "  print(f\"Feed Forward:\")\n",
        "  print(f\"  Avg Prediction: {ff_result['avg_prediction']:.4f}\")\n",
        "  print(f\"  Peaceful ratio: {np.sum(ff_result['num_peaceful_preds'])} / {len(cnn_result['true_labels'])}\")\n",
        "  print(f\"  Peace Prediction: {ff_result['peaceful']}\")\n",
        "  print(f\"New CNN:\")\n",
        "  print(f\"  Avg Prediction: {new_cnn_result['avg_prediction']:.4f}\")\n",
        "  print(f\"  Peaceful ratio: {np.sum(new_cnn_result['num_peaceful_preds'])} / {len(cnn_result['true_labels'])}\")\n",
        "  print(f\"  Peace Prediction: {new_cnn_result['peaceful']}\")\n",
        "  if np.sum(cnn_result['true_peaceful_count']) > (len(cnn_result['true_labels']) / 2):\n",
        "    print(f\"True Peace Label: True\")\n",
        "  else:\n",
        "    print(f\"True Peace Label: False\")\n",
        "  print()"
      ],
      "metadata": {
        "colab": {
          "base_uri": "https://localhost:8080/"
        },
        "id": "I0IsN81HFjvt",
        "outputId": "af2757e3-7d82-461a-d093-b2e0edf52a60"
      },
      "execution_count": null,
      "outputs": [
        {
          "output_type": "stream",
          "name": "stdout",
          "text": [
            "Country: Australia\n",
            "CNN:\n",
            "  Avg Prediction: 0.7921\n",
            "  Peaceful ratio: 164 / 200\n",
            "  Peace Prediction: True\n",
            "Feed Forward:\n",
            "  Avg Prediction: 0.7871\n",
            "  Peaceful ratio: 158 / 200\n",
            "  Peace Prediction: True\n",
            "New CNN:\n",
            "  Avg Prediction: 0.7469\n",
            "  Peaceful ratio: 149 / 200\n",
            "  Peace Prediction: True\n",
            "True Peace Label: True\n",
            "\n",
            "Country: Canada\n",
            "CNN:\n",
            "  Avg Prediction: 0.8825\n",
            "  Peaceful ratio: 179 / 200\n",
            "  Peace Prediction: True\n",
            "Feed Forward:\n",
            "  Avg Prediction: 0.8462\n",
            "  Peaceful ratio: 168 / 200\n",
            "  Peace Prediction: True\n",
            "New CNN:\n",
            "  Avg Prediction: 0.7756\n",
            "  Peaceful ratio: 157 / 200\n",
            "  Peace Prediction: True\n",
            "True Peace Label: True\n",
            "\n",
            "Country: Finland\n",
            "CNN:\n",
            "  Avg Prediction: 0.6187\n",
            "  Peaceful ratio: 126 / 200\n",
            "  Peace Prediction: True\n",
            "Feed Forward:\n",
            "  Avg Prediction: 0.5603\n",
            "  Peaceful ratio: 109 / 200\n",
            "  Peace Prediction: True\n",
            "New CNN:\n",
            "  Avg Prediction: 0.5166\n",
            "  Peaceful ratio: 104 / 200\n",
            "  Peace Prediction: True\n",
            "True Peace Label: True\n",
            "\n",
            "Country: France\n",
            "CNN:\n",
            "  Avg Prediction: 0.7128\n",
            "  Peaceful ratio: 144 / 200\n",
            "  Peace Prediction: True\n",
            "Feed Forward:\n",
            "  Avg Prediction: 0.6693\n",
            "  Peaceful ratio: 131 / 200\n",
            "  Peace Prediction: True\n",
            "New CNN:\n",
            "  Avg Prediction: 0.6287\n",
            "  Peaceful ratio: 128 / 200\n",
            "  Peace Prediction: True\n",
            "True Peace Label: True\n",
            "\n",
            "Country: Gambia\n",
            "CNN:\n",
            "  Avg Prediction: 0.1871\n",
            "  Peaceful ratio: 36 / 200\n",
            "  Peace Prediction: False\n",
            "Feed Forward:\n",
            "  Avg Prediction: 0.1569\n",
            "  Peaceful ratio: 23 / 200\n",
            "  Peace Prediction: False\n",
            "New CNN:\n",
            "  Avg Prediction: 0.1475\n",
            "  Peaceful ratio: 30 / 200\n",
            "  Peace Prediction: False\n",
            "True Peace Label: False\n",
            "\n",
            "Country: India\n",
            "CNN:\n",
            "  Avg Prediction: 0.2349\n",
            "  Peaceful ratio: 47 / 200\n",
            "  Peace Prediction: False\n",
            "Feed Forward:\n",
            "  Avg Prediction: 0.2066\n",
            "  Peaceful ratio: 34 / 200\n",
            "  Peace Prediction: False\n",
            "New CNN:\n",
            "  Avg Prediction: 0.1909\n",
            "  Peaceful ratio: 37 / 200\n",
            "  Peace Prediction: False\n",
            "True Peace Label: False\n",
            "\n",
            "Country: Iran\n",
            "CNN:\n",
            "  Avg Prediction: 0.4631\n",
            "  Peaceful ratio: 95 / 200\n",
            "  Peace Prediction: False\n",
            "Feed Forward:\n",
            "  Avg Prediction: 0.3910\n",
            "  Peaceful ratio: 67 / 200\n",
            "  Peace Prediction: False\n",
            "New CNN:\n",
            "  Avg Prediction: 0.3442\n",
            "  Peaceful ratio: 69 / 200\n",
            "  Peace Prediction: False\n",
            "True Peace Label: False\n",
            "\n",
            "Country: Ireland\n",
            "CNN:\n",
            "  Avg Prediction: 0.7128\n",
            "  Peaceful ratio: 143 / 200\n",
            "  Peace Prediction: True\n",
            "Feed Forward:\n",
            "  Avg Prediction: 0.7104\n",
            "  Peaceful ratio: 137 / 200\n",
            "  Peace Prediction: True\n",
            "New CNN:\n",
            "  Avg Prediction: 0.5804\n",
            "  Peaceful ratio: 115 / 200\n",
            "  Peace Prediction: True\n",
            "True Peace Label: True\n",
            "\n",
            "Country: Libya\n",
            "CNN:\n",
            "  Avg Prediction: 0.3813\n",
            "  Peaceful ratio: 77 / 200\n",
            "  Peace Prediction: False\n",
            "Feed Forward:\n",
            "  Avg Prediction: 0.3326\n",
            "  Peaceful ratio: 57 / 200\n",
            "  Peace Prediction: False\n",
            "New CNN:\n",
            "  Avg Prediction: 0.2709\n",
            "  Peaceful ratio: 51 / 200\n",
            "  Peace Prediction: False\n",
            "True Peace Label: False\n",
            "\n",
            "Country: Nigeria\n",
            "CNN:\n",
            "  Avg Prediction: 0.2942\n",
            "  Peaceful ratio: 57 / 200\n",
            "  Peace Prediction: False\n",
            "Feed Forward:\n",
            "  Avg Prediction: 0.2877\n",
            "  Peaceful ratio: 47 / 200\n",
            "  Peace Prediction: False\n",
            "New CNN:\n",
            "  Avg Prediction: 0.2433\n",
            "  Peaceful ratio: 48 / 200\n",
            "  Peace Prediction: False\n",
            "True Peace Label: False\n",
            "\n",
            "Country: Norway\n",
            "CNN:\n",
            "  Avg Prediction: 0.8107\n",
            "  Peaceful ratio: 167 / 200\n",
            "  Peace Prediction: True\n",
            "Feed Forward:\n",
            "  Avg Prediction: 0.7809\n",
            "  Peaceful ratio: 157 / 200\n",
            "  Peace Prediction: True\n",
            "New CNN:\n",
            "  Avg Prediction: 0.6367\n",
            "  Peaceful ratio: 124 / 200\n",
            "  Peace Prediction: True\n",
            "True Peace Label: True\n",
            "\n",
            "Country: Pakistan\n",
            "CNN:\n",
            "  Avg Prediction: 0.4432\n",
            "  Peaceful ratio: 85 / 200\n",
            "  Peace Prediction: False\n",
            "Feed Forward:\n",
            "  Avg Prediction: 0.4319\n",
            "  Peaceful ratio: 78 / 200\n",
            "  Peace Prediction: False\n",
            "New CNN:\n",
            "  Avg Prediction: 0.3107\n",
            "  Peaceful ratio: 61 / 200\n",
            "  Peace Prediction: False\n",
            "True Peace Label: False\n",
            "\n",
            "Country: Singapore\n",
            "CNN:\n",
            "  Avg Prediction: 0.7450\n",
            "  Peaceful ratio: 151 / 200\n",
            "  Peace Prediction: True\n",
            "Feed Forward:\n",
            "  Avg Prediction: 0.6606\n",
            "  Peaceful ratio: 129 / 200\n",
            "  Peace Prediction: True\n",
            "New CNN:\n",
            "  Avg Prediction: 0.6175\n",
            "  Peaceful ratio: 124 / 200\n",
            "  Peace Prediction: True\n",
            "True Peace Label: True\n",
            "\n",
            "Country: UK\n",
            "CNN:\n",
            "  Avg Prediction: 0.8325\n",
            "  Peaceful ratio: 172 / 200\n",
            "  Peace Prediction: True\n",
            "Feed Forward:\n",
            "  Avg Prediction: 0.7384\n",
            "  Peaceful ratio: 147 / 200\n",
            "  Peace Prediction: True\n",
            "New CNN:\n",
            "  Avg Prediction: 0.6628\n",
            "  Peaceful ratio: 133 / 200\n",
            "  Peace Prediction: True\n",
            "True Peace Label: True\n",
            "\n",
            "Country: Uganda\n",
            "CNN:\n",
            "  Avg Prediction: 0.2662\n",
            "  Peaceful ratio: 48 / 200\n",
            "  Peace Prediction: False\n",
            "Feed Forward:\n",
            "  Avg Prediction: 0.2790\n",
            "  Peaceful ratio: 45 / 200\n",
            "  Peace Prediction: False\n",
            "New CNN:\n",
            "  Avg Prediction: 0.2101\n",
            "  Peaceful ratio: 43 / 200\n",
            "  Peace Prediction: False\n",
            "True Peace Label: False\n",
            "\n",
            "Country: Zimbabwe\n",
            "CNN:\n",
            "  Avg Prediction: 0.3617\n",
            "  Peaceful ratio: 71 / 200\n",
            "  Peace Prediction: False\n",
            "Feed Forward:\n",
            "  Avg Prediction: 0.3666\n",
            "  Peaceful ratio: 66 / 200\n",
            "  Peace Prediction: False\n",
            "New CNN:\n",
            "  Avg Prediction: 0.3019\n",
            "  Peaceful ratio: 58 / 200\n",
            "  Peace Prediction: False\n",
            "True Peace Label: False\n",
            "\n"
          ]
        }
      ]
    },
    {
      "cell_type": "markdown",
      "source": [
        "### Threshold: 0.5\n",
        "CNN Accuracy: 16/16 = 1.00\n",
        "\n",
        "Feed Forward: 16/16 = 1.00\n",
        "\n",
        "New CNN Accuracy: 16/16 = 1.00"
      ],
      "metadata": {
        "id": "AyeC2lOWEN0u"
      }
    }
  ]
}